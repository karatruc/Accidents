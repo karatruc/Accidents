{
 "cells": [
  {
   "cell_type": "code",
   "execution_count": 1,
   "metadata": {},
   "outputs": [],
   "source": [
    "import pandas as pd\n",
    "import numpy as np\n",
    "import matplotlib.pyplot as plt\n",
    "import seaborn as sns\n",
    "from scipy.stats import chi2_contingency"
   ]
  },
  {
   "cell_type": "code",
   "execution_count": 2,
   "metadata": {},
   "outputs": [],
   "source": [
    "#chargements des caractéristiques\n",
    "carac = pd.read_csv('carcteristiques-2022.csv', sep=';')\n",
    "#conversion en chaine\n",
    "cols_to_cast = ['Accident_Id', 'lum', 'agg', 'int', 'atm', 'col']\n",
    "carac[cols_to_cast] = carac[cols_to_cast].astype('int')\n",
    "#conversion des latitudes/longitudes\n",
    "carac['lat']= carac['lat'].str.replace(',','.').astype('float')\n",
    "carac['long']= carac['long'].str.replace(',','.').astype('float')\n",
    "\n",
    "# suppression de l'adresse qui ne sert à rien\n",
    "carac = carac.drop('adr', axis = 1)\n",
    "\n",
    "#on ajoute un créneau horaire\n",
    "carac['hh'] = carac['hrmn'].str[:2]\n",
    "\n",
    "# traitement des -1 en NA\n",
    "carac.replace({-1:np.nan}, inplace=True)\n",
    "\n",
    "# gestion des NAs\n",
    "# lum : 2 nas => valuers la plus fréquentes (1)\n",
    "carac.loc[carac['lum'].isna(),'lum'] = 1\n",
    "\n",
    "# int : 7 nas => valuers la plus fréquentes (1)\n",
    "carac.loc[carac['int'].isna(),'int'] = 1\n",
    "\n",
    "# atm : 1 nas => valuers la plus fréquentes (1)\n",
    "carac.loc[carac['atm'].isna(),'atm'] = 1\n",
    "\n",
    "# col : 63 nas => valuers la plus fréquentes (6) : atre collision\n",
    "carac.loc[carac['col'].isna(),'col'] = 6"
   ]
  },
  {
   "cell_type": "code",
   "execution_count": 123,
   "metadata": {},
   "outputs": [],
   "source": [
    "# chargement des usagers\n",
    "usagers = pd.read_csv('usagers-2022.csv', sep=';')\n",
    "\n",
    "#suppression du num_veh qui est en doublon avec id_vehicule\n",
    "usagers.drop('num_veh', axis = 1, inplace = True)\n",
    "\n",
    "#correction dees valeurs inconnue actp\n",
    "usagers.loc[usagers['actp'].isin([' -1','8','9']),'actp'] = -1\n",
    "\n",
    "# place manquante : tous les usagers concernés sont conduxcteurs : donc on remplace par 1\n",
    "usagers.loc[usagers['place']== -1 ,'place'] = 1\n",
    "\n",
    "# catu : on remplca e0 par 1 = le plus nombreux\n",
    "#usagers.loc[usagers['catu']== 0 ,'catu'] = 1\n",
    "usagers['catu'] = usagers['catu'].replace(0,1)\n",
    "\n",
    "\n",
    "# gravité : bcp d'information manquantes pour ces usagers : on supprime\n",
    "usagers.dropna(subset=['grav'], inplace=True)\n",
    "\n",
    "#sexe : le plus courant = H\n",
    "usagers['sexe'] = usagers['sexe'].replace({0:-1})\n",
    "usagers.loc[usagers['sexe']== -1 ,'sexe'] = 1\n",
    "\n",
    "# trajet :  catégorie 0 : non renseignée conservée car très nombreuse\n",
    "usagers.loc[usagers['trajet']== -1, 'trajet'] = 0\n",
    "\n",
    "\n",
    "\n",
    "#secu  : un champ binaire par équipement\n",
    "for i in range(1,10) :\n",
    "    usagers['secu_'+str(i)] = ((usagers['secu1']==i) | (usagers['secu2']==i) | (usagers['secu3']==i))*1\n",
    "\n",
    "usagers = usagers.drop(['secu1','secu2','secu3'], axis = 1)\n",
    "\n",
    "\n",
    "\n",
    "#année de naissance : année moyenne\n",
    "usagers.loc[usagers['an_nais'] == 0,'an_nais'] = 1987\n",
    "usagers.loc[usagers['an_nais'].isna(),'an_nais'] = 1987\n",
    "\n",
    "#sexe : 1 est le plus nombreux\n",
    "usagers.loc[usagers['sexe'] == 0,'sexe'] = 1\n",
    "\n",
    "# locp. pour les usagers non piétons, la valeur -1 est remplacé\"e par 0 sans objet\n",
    "# pour les piétonzs, on met 9 : inconnue\n",
    "usagers.loc[usagers['catu']!=3,'locp'] = 0\n",
    "usagers.loc[(usagers['catu']==3) & (usagers['locp']==-1),'locp'] = 9\n",
    "\n",
    "#actp. pour les non piétons, valeurmanquantes = 0 pour sans objet\n",
    "# pour les piétons : B = inconnu\n",
    "usagers.loc[usagers['catu']!=3,'actp'] = 0\n",
    "usagers.loc[(usagers['catu']==3) & (usagers['actp'] == -1),'actp'] = 'B'\n",
    "\n",
    "#on recode actp A et B en 10 ,11\n",
    "usagers.loc[usagers['actp']=='A', 'actp'] = '10'\n",
    "usagers.loc[usagers['actp']=='B', 'actp'] = '11'\n",
    "\n",
    "#etatp : pour les non piétons, on mets à 0 = sans objet\n",
    "#pour le smiétons, 1 (le plus fréquent)\n",
    "usagers.loc[(usagers['catu']!=3)&(usagers['etatp']==-1), 'etatp'] = 0\n",
    "usagers.loc[(usagers['catu']==3)&(usagers['etatp']==-1), 'etatp'] = 1\n",
    "\n",
    "#cast\n",
    "usagers[['an_nais','actp']] = usagers[['an_nais','actp']].astype('int')\n"
   ]
  },
  {
   "cell_type": "code",
   "execution_count": 124,
   "metadata": {},
   "outputs": [
    {
     "name": "stdout",
     "output_type": "stream",
     "text": [
      "<class 'pandas.core.frame.DataFrame'>\n",
      "RangeIndex: 126662 entries, 0 to 126661\n",
      "Data columns (total 21 columns):\n",
      " #   Column       Non-Null Count   Dtype \n",
      "---  ------       --------------   ----- \n",
      " 0   Num_Acc      126662 non-null  int64 \n",
      " 1   id_usager    126662 non-null  object\n",
      " 2   id_vehicule  126662 non-null  object\n",
      " 3   place        126662 non-null  int64 \n",
      " 4   catu         126662 non-null  int64 \n",
      " 5   grav         126662 non-null  int64 \n",
      " 6   sexe         126662 non-null  int64 \n",
      " 7   an_nais      126662 non-null  int32 \n",
      " 8   trajet       126662 non-null  int64 \n",
      " 9   locp         126662 non-null  int64 \n",
      " 10  actp         126662 non-null  int32 \n",
      " 11  etatp        126662 non-null  int64 \n",
      " 12  secu_1       126662 non-null  int32 \n",
      " 13  secu_2       126662 non-null  int32 \n",
      " 14  secu_3       126662 non-null  int32 \n",
      " 15  secu_4       126662 non-null  int32 \n",
      " 16  secu_5       126662 non-null  int32 \n",
      " 17  secu_6       126662 non-null  int32 \n",
      " 18  secu_7       126662 non-null  int32 \n",
      " 19  secu_8       126662 non-null  int32 \n",
      " 20  secu_9       126662 non-null  int32 \n",
      "dtypes: int32(11), int64(8), object(2)\n",
      "memory usage: 15.0+ MB\n"
     ]
    }
   ],
   "source": [
    "\n",
    "\n",
    "\n",
    "\n",
    "\n"
   ]
  },
  {
   "cell_type": "code",
   "execution_count": 112,
   "metadata": {},
   "outputs": [],
   "source": [
    "['an_nais','actp']"
   ]
  },
  {
   "cell_type": "code",
   "execution_count": 86,
   "metadata": {},
   "outputs": [
    {
     "data": {
      "text/plain": [
       "locp\n",
       "5    223\n",
       "1    146\n",
       "9     93\n",
       "6     79\n",
       "2     67\n",
       "8     26\n",
       "0     18\n",
       "3     14\n",
       "7      5\n",
       "4      5\n",
       "Name: count, dtype: int64"
      ]
     },
     "execution_count": 86,
     "metadata": {},
     "output_type": "execute_result"
    }
   ],
   "source": [
    "usagers.loc[(usagers['catu']==3) & (usagers['actp']==-1), 'locp'].value_counts()"
   ]
  },
  {
   "cell_type": "code",
   "execution_count": 93,
   "metadata": {},
   "outputs": [
    {
     "name": "stdout",
     "output_type": "stream",
     "text": [
      "<class 'pandas.core.frame.DataFrame'>\n",
      "RangeIndex: 126662 entries, 0 to 126661\n",
      "Data columns (total 21 columns):\n",
      " #   Column       Non-Null Count   Dtype  \n",
      "---  ------       --------------   -----  \n",
      " 0   Num_Acc      126662 non-null  int64  \n",
      " 1   id_usager    126662 non-null  object \n",
      " 2   id_vehicule  126662 non-null  object \n",
      " 3   place        126662 non-null  int64  \n",
      " 4   catu         126662 non-null  int64  \n",
      " 5   grav         126662 non-null  int64  \n",
      " 6   sexe         126662 non-null  int64  \n",
      " 7   an_nais      126662 non-null  float64\n",
      " 8   trajet       126662 non-null  int64  \n",
      " 9   locp         126662 non-null  object \n",
      " 10  actp         126662 non-null  object \n",
      " 11  etatp        126662 non-null  int64  \n",
      " 12  secu_1       126662 non-null  int32  \n",
      " 13  secu_2       126662 non-null  int32  \n",
      " 14  secu_3       126662 non-null  int32  \n",
      " 15  secu_4       126662 non-null  int32  \n",
      " 16  secu_5       126662 non-null  int32  \n",
      " 17  secu_6       126662 non-null  int32  \n",
      " 18  secu_7       126662 non-null  int32  \n",
      " 19  secu_8       126662 non-null  int32  \n",
      " 20  secu_9       126662 non-null  int32  \n",
      "dtypes: float64(1), int32(9), int64(7), object(4)\n",
      "memory usage: 15.9+ MB\n"
     ]
    }
   ],
   "source": [
    "usagers.info()"
   ]
  },
  {
   "cell_type": "code",
   "execution_count": null,
   "metadata": {},
   "outputs": [],
   "source": []
  }
 ],
 "metadata": {
  "kernelspec": {
   "display_name": "base",
   "language": "python",
   "name": "python3"
  },
  "language_info": {
   "codemirror_mode": {
    "name": "ipython",
    "version": 3
   },
   "file_extension": ".py",
   "mimetype": "text/x-python",
   "name": "python",
   "nbconvert_exporter": "python",
   "pygments_lexer": "ipython3",
   "version": "3.11.7"
  }
 },
 "nbformat": 4,
 "nbformat_minor": 2
}
