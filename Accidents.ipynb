{
 "cells": [
  {
   "cell_type": "code",
   "execution_count": 145,
   "id": "50250582",
   "metadata": {},
   "outputs": [],
   "source": [
    "import pandas as pd\n",
    "import numpy as np\n",
    "import matplotlib.pyplot as plt\n",
    "import seaborn as sns\n",
    "from scipy.stats import chi2_contingency"
   ]
  },
  {
   "cell_type": "code",
   "execution_count": 146,
   "id": "0f1458b4",
   "metadata": {},
   "outputs": [],
   "source": [
    "#chargement des nomenclatures\n",
    "libelles = pd.read_csv('libelles.csv', sep=';', index_col=['colonne', 'indice'])\n",
    "#libelles = libelles.set_index(['colonne', 'indice'])\n",
    "\n",
    "variables = pd.read_csv('variables.csv', sep=';', index_col = ['variable'])\n"
   ]
  },
  {
   "cell_type": "code",
   "execution_count": 167,
   "id": "4c406ce2",
   "metadata": {},
   "outputs": [
    {
     "name": "stderr",
     "output_type": "stream",
     "text": [
      "C:\\Users\\Eric\\AppData\\Local\\Temp\\ipykernel_2472\\1100335970.py:10: DtypeWarning: Columns (6) have mixed types. Specify dtype option on import or set low_memory=False.\n",
      "  lieux = pd.concat([lieux, pd.read_csv(f\"lieux-{annee}.csv\", sep=';')])\n"
     ]
    }
   ],
   "source": [
    "#chargement des données\n",
    "annees = [str(x) for x in np.arange(2019,2023)]\n",
    "#fichiers = ['caracteristiques', 'lieux', 'usagers','vehicules']\n",
    "carac = pd.DataFrame()\n",
    "lieux = pd.DataFrame()\n",
    "usagers = pd.DataFrame()\n",
    "vehicules = pd.DataFrame()\n",
    "for annee in annees : \n",
    "    carac = pd.concat([carac, pd.read_csv(f\"caracteristiques-{annee}.csv\", sep=';')])\n",
    "    lieux = pd.concat([lieux, pd.read_csv(f\"lieux-{annee}.csv\", sep=';')])\n",
    "    usagers = pd.concat([usagers, pd.read_csv(f\"usagers-{annee}.csv\", sep=';')])\n",
    "    vehicules = pd.concat([vehicules, pd.read_csv(f\"vehicules-{annee}.csv\", sep=';')])\n"
   ]
  },
  {
   "cell_type": "code",
   "execution_count": 168,
   "id": "72e3884c",
   "metadata": {},
   "outputs": [],
   "source": [
    "#correction identifiant accident\n",
    "carac['Num_Acc'].fillna(carac['Accident_Id'], inplace=True)\n",
    "carac = carac.drop('Accident_Id', axis = 1)\n",
    "\n",
    "#jointure carac-lieux\n",
    "df = pd.merge(left = carac, right = lieux, left_on = 'Num_Acc', right_on='Num_Acc')\n",
    "\n",
    "#jointure df-vehicules\n",
    "df = pd.merge(left=df, right=vehicules, left_on='Num_Acc', right_on='Num_Acc')\n",
    "\n",
    "#jointure df-usagers\n",
    "df = pd.merge(left=df, right=usagers, right_on='id_vehicule', left_on='id_vehicule')\n",
    "\n",
    "#suppression des identifiants\n",
    "df = df.drop(['Num_Acc_x', 'id_vehicule', 'num_veh_x', 'Num_Acc_y','num_veh_y', 'id_usager'], axis = 1)"
   ]
  },
  {
   "cell_type": "code",
   "execution_count": 197,
   "id": "1490306d",
   "metadata": {},
   "outputs": [],
   "source": [
    "df = df.replace({\n",
    "    '-1':np.nan,\n",
    "    -1:np.nan,\n",
    "    ' -1':np.nan,\n",
    "    '#ERREUR':np.nan\n",
    "})\n",
    "\n"
   ]
  },
  {
   "cell_type": "code",
   "execution_count": 170,
   "id": "61ead187",
   "metadata": {},
   "outputs": [],
   "source": [
    "#secu  : un champ binaire par équipement\n",
    "for i in range(1,10) :\n",
    "    df['secu_'+str(i)] = ((df['secu1']==i) | (df['secu2']==i) | (df['secu3']==i))*1\n",
    "\n",
    "df = df.drop(['secu1','secu2','secu3'], axis = 1)"
   ]
  },
  {
   "cell_type": "code",
   "execution_count": 171,
   "id": "27fe62e4",
   "metadata": {},
   "outputs": [
    {
     "data": {
      "text/html": [
       "<div>\n",
       "<style scoped>\n",
       "    .dataframe tbody tr th:only-of-type {\n",
       "        vertical-align: middle;\n",
       "    }\n",
       "\n",
       "    .dataframe tbody tr th {\n",
       "        vertical-align: top;\n",
       "    }\n",
       "\n",
       "    .dataframe thead th {\n",
       "        text-align: right;\n",
       "    }\n",
       "</style>\n",
       "<table border=\"1\" class=\"dataframe\">\n",
       "  <thead>\n",
       "    <tr style=\"text-align: right;\">\n",
       "      <th></th>\n",
       "      <th>column_name</th>\n",
       "      <th>percent_missing</th>\n",
       "    </tr>\n",
       "  </thead>\n",
       "  <tbody>\n",
       "    <tr>\n",
       "      <th>jour</th>\n",
       "      <td>jour</td>\n",
       "      <td>0.000000</td>\n",
       "    </tr>\n",
       "    <tr>\n",
       "      <th>secu_7</th>\n",
       "      <td>secu_7</td>\n",
       "      <td>0.000000</td>\n",
       "    </tr>\n",
       "    <tr>\n",
       "      <th>secu_6</th>\n",
       "      <td>secu_6</td>\n",
       "      <td>0.000000</td>\n",
       "    </tr>\n",
       "    <tr>\n",
       "      <th>secu_5</th>\n",
       "      <td>secu_5</td>\n",
       "      <td>0.000000</td>\n",
       "    </tr>\n",
       "    <tr>\n",
       "      <th>secu_4</th>\n",
       "      <td>secu_4</td>\n",
       "      <td>0.000000</td>\n",
       "    </tr>\n",
       "    <tr>\n",
       "      <th>secu_3</th>\n",
       "      <td>secu_3</td>\n",
       "      <td>0.000000</td>\n",
       "    </tr>\n",
       "    <tr>\n",
       "      <th>secu_2</th>\n",
       "      <td>secu_2</td>\n",
       "      <td>0.000000</td>\n",
       "    </tr>\n",
       "    <tr>\n",
       "      <th>secu_1</th>\n",
       "      <td>secu_1</td>\n",
       "      <td>0.000000</td>\n",
       "    </tr>\n",
       "    <tr>\n",
       "      <th>catu</th>\n",
       "      <td>catu</td>\n",
       "      <td>0.000000</td>\n",
       "    </tr>\n",
       "    <tr>\n",
       "      <th>secu_8</th>\n",
       "      <td>secu_8</td>\n",
       "      <td>0.000000</td>\n",
       "    </tr>\n",
       "    <tr>\n",
       "      <th>pr1</th>\n",
       "      <td>pr1</td>\n",
       "      <td>0.000000</td>\n",
       "    </tr>\n",
       "    <tr>\n",
       "      <th>pr</th>\n",
       "      <td>pr</td>\n",
       "      <td>0.000000</td>\n",
       "    </tr>\n",
       "    <tr>\n",
       "      <th>catr</th>\n",
       "      <td>catr</td>\n",
       "      <td>0.000000</td>\n",
       "    </tr>\n",
       "    <tr>\n",
       "      <th>secu_9</th>\n",
       "      <td>secu_9</td>\n",
       "      <td>0.000000</td>\n",
       "    </tr>\n",
       "    <tr>\n",
       "      <th>lat</th>\n",
       "      <td>lat</td>\n",
       "      <td>0.000000</td>\n",
       "    </tr>\n",
       "    <tr>\n",
       "      <th>long</th>\n",
       "      <td>long</td>\n",
       "      <td>0.000000</td>\n",
       "    </tr>\n",
       "    <tr>\n",
       "      <th>com</th>\n",
       "      <td>com</td>\n",
       "      <td>0.000000</td>\n",
       "    </tr>\n",
       "    <tr>\n",
       "      <th>dep</th>\n",
       "      <td>dep</td>\n",
       "      <td>0.000000</td>\n",
       "    </tr>\n",
       "    <tr>\n",
       "      <th>agg</th>\n",
       "      <td>agg</td>\n",
       "      <td>0.000000</td>\n",
       "    </tr>\n",
       "    <tr>\n",
       "      <th>hrmn</th>\n",
       "      <td>hrmn</td>\n",
       "      <td>0.000000</td>\n",
       "    </tr>\n",
       "    <tr>\n",
       "      <th>an</th>\n",
       "      <td>an</td>\n",
       "      <td>0.000000</td>\n",
       "    </tr>\n",
       "    <tr>\n",
       "      <th>mois</th>\n",
       "      <td>mois</td>\n",
       "      <td>0.000000</td>\n",
       "    </tr>\n",
       "    <tr>\n",
       "      <th>lum</th>\n",
       "      <td>lum</td>\n",
       "      <td>0.002024</td>\n",
       "    </tr>\n",
       "    <tr>\n",
       "      <th>catv</th>\n",
       "      <td>catv</td>\n",
       "      <td>0.002631</td>\n",
       "    </tr>\n",
       "    <tr>\n",
       "      <th>int</th>\n",
       "      <td>int</td>\n",
       "      <td>0.004249</td>\n",
       "    </tr>\n",
       "    <tr>\n",
       "      <th>place</th>\n",
       "      <td>place</td>\n",
       "      <td>0.005059</td>\n",
       "    </tr>\n",
       "    <tr>\n",
       "      <th>atm</th>\n",
       "      <td>atm</td>\n",
       "      <td>0.006880</td>\n",
       "    </tr>\n",
       "    <tr>\n",
       "      <th>plan</th>\n",
       "      <td>plan</td>\n",
       "      <td>0.012344</td>\n",
       "    </tr>\n",
       "    <tr>\n",
       "      <th>prof</th>\n",
       "      <td>prof</td>\n",
       "      <td>0.015986</td>\n",
       "    </tr>\n",
       "    <tr>\n",
       "      <th>surf</th>\n",
       "      <td>surf</td>\n",
       "      <td>0.023271</td>\n",
       "    </tr>\n",
       "    <tr>\n",
       "      <th>manv</th>\n",
       "      <td>manv</td>\n",
       "      <td>0.032781</td>\n",
       "    </tr>\n",
       "    <tr>\n",
       "      <th>obs</th>\n",
       "      <td>obs</td>\n",
       "      <td>0.038650</td>\n",
       "    </tr>\n",
       "    <tr>\n",
       "      <th>choc</th>\n",
       "      <td>choc</td>\n",
       "      <td>0.047756</td>\n",
       "    </tr>\n",
       "    <tr>\n",
       "      <th>obsm</th>\n",
       "      <td>obsm</td>\n",
       "      <td>0.049172</td>\n",
       "    </tr>\n",
       "    <tr>\n",
       "      <th>situ</th>\n",
       "      <td>situ</td>\n",
       "      <td>0.055648</td>\n",
       "    </tr>\n",
       "    <tr>\n",
       "      <th>grav</th>\n",
       "      <td>grav</td>\n",
       "      <td>0.060909</td>\n",
       "    </tr>\n",
       "    <tr>\n",
       "      <th>motor</th>\n",
       "      <td>motor</td>\n",
       "      <td>0.210246</td>\n",
       "    </tr>\n",
       "    <tr>\n",
       "      <th>senc</th>\n",
       "      <td>senc</td>\n",
       "      <td>0.335099</td>\n",
       "    </tr>\n",
       "    <tr>\n",
       "      <th>vosp</th>\n",
       "      <td>vosp</td>\n",
       "      <td>0.575496</td>\n",
       "    </tr>\n",
       "    <tr>\n",
       "      <th>col</th>\n",
       "      <td>col</td>\n",
       "      <td>0.783315</td>\n",
       "    </tr>\n",
       "    <tr>\n",
       "      <th>infra</th>\n",
       "      <td>infra</td>\n",
       "      <td>0.902906</td>\n",
       "    </tr>\n",
       "    <tr>\n",
       "      <th>nbv</th>\n",
       "      <td>nbv</td>\n",
       "      <td>0.968267</td>\n",
       "    </tr>\n",
       "    <tr>\n",
       "      <th>sexe</th>\n",
       "      <td>sexe</td>\n",
       "      <td>1.174871</td>\n",
       "    </tr>\n",
       "    <tr>\n",
       "      <th>an_nais</th>\n",
       "      <td>an_nais</td>\n",
       "      <td>1.202189</td>\n",
       "    </tr>\n",
       "    <tr>\n",
       "      <th>adr</th>\n",
       "      <td>adr</td>\n",
       "      <td>1.224448</td>\n",
       "    </tr>\n",
       "    <tr>\n",
       "      <th>trajet</th>\n",
       "      <td>trajet</td>\n",
       "      <td>1.396247</td>\n",
       "    </tr>\n",
       "    <tr>\n",
       "      <th>vma</th>\n",
       "      <td>vma</td>\n",
       "      <td>1.447038</td>\n",
       "    </tr>\n",
       "    <tr>\n",
       "      <th>circ</th>\n",
       "      <td>circ</td>\n",
       "      <td>5.314236</td>\n",
       "    </tr>\n",
       "    <tr>\n",
       "      <th>voie</th>\n",
       "      <td>voie</td>\n",
       "      <td>9.624794</td>\n",
       "    </tr>\n",
       "    <tr>\n",
       "      <th>v1</th>\n",
       "      <td>v1</td>\n",
       "      <td>17.821977</td>\n",
       "    </tr>\n",
       "    <tr>\n",
       "      <th>actp</th>\n",
       "      <td>actp</td>\n",
       "      <td>37.570369</td>\n",
       "    </tr>\n",
       "    <tr>\n",
       "      <th>locp</th>\n",
       "      <td>locp</td>\n",
       "      <td>43.860966</td>\n",
       "    </tr>\n",
       "    <tr>\n",
       "      <th>v2</th>\n",
       "      <td>v2</td>\n",
       "      <td>91.998494</td>\n",
       "    </tr>\n",
       "    <tr>\n",
       "      <th>etatp</th>\n",
       "      <td>etatp</td>\n",
       "      <td>92.323476</td>\n",
       "    </tr>\n",
       "    <tr>\n",
       "      <th>larrout</th>\n",
       "      <td>larrout</td>\n",
       "      <td>95.380649</td>\n",
       "    </tr>\n",
       "    <tr>\n",
       "      <th>occutc</th>\n",
       "      <td>occutc</td>\n",
       "      <td>98.742973</td>\n",
       "    </tr>\n",
       "    <tr>\n",
       "      <th>lartpc</th>\n",
       "      <td>lartpc</td>\n",
       "      <td>99.781052</td>\n",
       "    </tr>\n",
       "  </tbody>\n",
       "</table>\n",
       "</div>"
      ],
      "text/plain": [
       "        column_name  percent_missing\n",
       "jour           jour         0.000000\n",
       "secu_7       secu_7         0.000000\n",
       "secu_6       secu_6         0.000000\n",
       "secu_5       secu_5         0.000000\n",
       "secu_4       secu_4         0.000000\n",
       "secu_3       secu_3         0.000000\n",
       "secu_2       secu_2         0.000000\n",
       "secu_1       secu_1         0.000000\n",
       "catu           catu         0.000000\n",
       "secu_8       secu_8         0.000000\n",
       "pr1             pr1         0.000000\n",
       "pr               pr         0.000000\n",
       "catr           catr         0.000000\n",
       "secu_9       secu_9         0.000000\n",
       "lat             lat         0.000000\n",
       "long           long         0.000000\n",
       "com             com         0.000000\n",
       "dep             dep         0.000000\n",
       "agg             agg         0.000000\n",
       "hrmn           hrmn         0.000000\n",
       "an               an         0.000000\n",
       "mois           mois         0.000000\n",
       "lum             lum         0.002024\n",
       "catv           catv         0.002631\n",
       "int             int         0.004249\n",
       "place         place         0.005059\n",
       "atm             atm         0.006880\n",
       "plan           plan         0.012344\n",
       "prof           prof         0.015986\n",
       "surf           surf         0.023271\n",
       "manv           manv         0.032781\n",
       "obs             obs         0.038650\n",
       "choc           choc         0.047756\n",
       "obsm           obsm         0.049172\n",
       "situ           situ         0.055648\n",
       "grav           grav         0.060909\n",
       "motor         motor         0.210246\n",
       "senc           senc         0.335099\n",
       "vosp           vosp         0.575496\n",
       "col             col         0.783315\n",
       "infra         infra         0.902906\n",
       "nbv             nbv         0.968267\n",
       "sexe           sexe         1.174871\n",
       "an_nais     an_nais         1.202189\n",
       "adr             adr         1.224448\n",
       "trajet       trajet         1.396247\n",
       "vma             vma         1.447038\n",
       "circ           circ         5.314236\n",
       "voie           voie         9.624794\n",
       "v1               v1        17.821977\n",
       "actp           actp        37.570369\n",
       "locp           locp        43.860966\n",
       "v2               v2        91.998494\n",
       "etatp         etatp        92.323476\n",
       "larrout     larrout        95.380649\n",
       "occutc       occutc        98.742973\n",
       "lartpc       lartpc        99.781052"
      ]
     },
     "execution_count": 171,
     "metadata": {},
     "output_type": "execute_result"
    }
   ],
   "source": [
    "pd.DataFrame({'column_name': df.columns,'percent_missing': df.isnull().sum() * 100 / len(df)}).sort_values('percent_missing')\n"
   ]
  },
  {
   "cell_type": "code",
   "execution_count": 172,
   "id": "795b52d9",
   "metadata": {},
   "outputs": [],
   "source": [
    "#elimination des colonnes avec plus de 25% de valeurs manquantes\n",
    "df.dropna(thresh=len(df)*3/4, axis = 1, inplace= True)"
   ]
  },
  {
   "cell_type": "code",
   "execution_count": 173,
   "id": "2fd51c24",
   "metadata": {},
   "outputs": [],
   "source": [
    "#suppression des lignes sans variable d'Interet\n",
    "df.dropna(subset=['grav'], inplace = True)"
   ]
  },
  {
   "cell_type": "code",
   "execution_count": 174,
   "id": "2509603b",
   "metadata": {},
   "outputs": [],
   "source": [
    "# suppression de l'adresse qui ne sert à rien\n",
    "df = df.drop('adr', axis = 1)"
   ]
  },
  {
   "cell_type": "code",
   "execution_count": 175,
   "id": "3321a6f6",
   "metadata": {},
   "outputs": [],
   "source": [
    "df.drop(['voie','v1'], axis = 1, inplace=True)"
   ]
  },
  {
   "cell_type": "code",
   "execution_count": 176,
   "id": "2159899a",
   "metadata": {},
   "outputs": [],
   "source": [
    "df.dropna(how = 'any', axis=0, inplace=True)"
   ]
  },
  {
   "cell_type": "code",
   "execution_count": 177,
   "id": "b888b81d",
   "metadata": {},
   "outputs": [
    {
     "data": {
      "text/plain": [
       "jour       0\n",
       "mois       0\n",
       "an         0\n",
       "hrmn       0\n",
       "lum        0\n",
       "dep        0\n",
       "com        0\n",
       "agg        0\n",
       "int        0\n",
       "atm        0\n",
       "col        0\n",
       "lat        0\n",
       "long       0\n",
       "catr       0\n",
       "circ       0\n",
       "nbv        0\n",
       "vosp       0\n",
       "prof       0\n",
       "pr         0\n",
       "pr1        0\n",
       "plan       0\n",
       "surf       0\n",
       "infra      0\n",
       "situ       0\n",
       "vma        0\n",
       "senc       0\n",
       "catv       0\n",
       "obs        0\n",
       "obsm       0\n",
       "choc       0\n",
       "manv       0\n",
       "motor      0\n",
       "place      0\n",
       "catu       0\n",
       "grav       0\n",
       "sexe       0\n",
       "an_nais    0\n",
       "trajet     0\n",
       "secu_1     0\n",
       "secu_2     0\n",
       "secu_3     0\n",
       "secu_4     0\n",
       "secu_5     0\n",
       "secu_6     0\n",
       "secu_7     0\n",
       "secu_8     0\n",
       "secu_9     0\n",
       "dtype: int64"
      ]
     },
     "execution_count": 177,
     "metadata": {},
     "output_type": "execute_result"
    }
   ],
   "source": [
    "df.isna().sum()"
   ]
  },
  {
   "cell_type": "code",
   "execution_count": 178,
   "id": "0cd5238c",
   "metadata": {},
   "outputs": [
    {
     "data": {
      "text/plain": [
       "(442991, 47)"
      ]
     },
     "execution_count": 178,
     "metadata": {},
     "output_type": "execute_result"
    }
   ],
   "source": [
    "df.shape"
   ]
  },
  {
   "cell_type": "code",
   "execution_count": 179,
   "id": "bb58d5c2",
   "metadata": {},
   "outputs": [],
   "source": [
    "#conversion des latitudes : longitudes\n",
    "df['lat']= df['lat'].str.replace(',','.').astype('float')\n",
    "df['long']= df['long'].str.replace(',','.').astype('float')\n"
   ]
  },
  {
   "cell_type": "code",
   "execution_count": 180,
   "id": "65fae716",
   "metadata": {},
   "outputs": [],
   "source": [
    "#on ajoute un créneau horaire\n",
    "df['hh'] = df['hrmn'].str[:2]\n",
    "\n",
    "df.drop('hrmn', axis = 1, inplace= True)"
   ]
  },
  {
   "cell_type": "code",
   "execution_count": 181,
   "id": "43451302",
   "metadata": {},
   "outputs": [],
   "source": [
    "df['hh'] = df['hh'].astype('int')"
   ]
  },
  {
   "cell_type": "code",
   "execution_count": 182,
   "id": "95c11b37",
   "metadata": {},
   "outputs": [],
   "source": [
    "#on ajoute la date  partir de jour, mois, année\n",
    "df['date'] = pd.to_datetime(dict(day=df['jour'], month=df['mois'], year=df['an']))"
   ]
  },
  {
   "cell_type": "code",
   "execution_count": 183,
   "id": "ab63cd3b",
   "metadata": {},
   "outputs": [],
   "source": [
    "#calcul de l'age des usagers dans l'année de l'accident\n",
    "df['age'] = df['an'] - df['an_nais'].astype(int)\n",
    "\n",
    "df.drop('an_nais', axis = 1, inplace = True)"
   ]
  },
  {
   "cell_type": "code",
   "execution_count": 184,
   "id": "f7ee3c38",
   "metadata": {},
   "outputs": [],
   "source": [
    "df.drop(['jour','an'], axis = 1, inplace=True)"
   ]
  },
  {
   "cell_type": "code",
   "execution_count": 185,
   "id": "89f4b2f2",
   "metadata": {},
   "outputs": [],
   "source": [
    "df.drop(['pr','pr1'], axis = 1, inplace=True)"
   ]
  },
  {
   "cell_type": "code",
   "execution_count": 186,
   "id": "e3f7198a",
   "metadata": {},
   "outputs": [],
   "source": [
    "df.drop(['senc'], axis = 1, inplace=True)"
   ]
  },
  {
   "cell_type": "code",
   "execution_count": 187,
   "id": "4c07b2bd",
   "metadata": {},
   "outputs": [],
   "source": [
    "df.drop(['dep','com'], axis = 1, inplace=True)"
   ]
  },
  {
   "cell_type": "code",
   "execution_count": 215,
   "id": "5a5e5375",
   "metadata": {},
   "outputs": [
    {
     "data": {
      "text/plain": [
       "(442991, 41)"
      ]
     },
     "execution_count": 215,
     "metadata": {},
     "output_type": "execute_result"
    }
   ],
   "source": [
    "df.shape"
   ]
  },
  {
   "cell_type": "code",
   "execution_count": 204,
   "id": "01266a59",
   "metadata": {},
   "outputs": [
    {
     "data": {
      "text/plain": [
       "Index(['lat', 'long'], dtype='object')"
      ]
     },
     "execution_count": 204,
     "metadata": {},
     "output_type": "execute_result"
    }
   ],
   "source": [
    "df.select_dtypes('float').columns"
   ]
  },
  {
   "cell_type": "code",
   "execution_count": 202,
   "id": "c2ae3bce",
   "metadata": {},
   "outputs": [],
   "source": [
    "df[['lum', 'int', 'atm', 'col',  'circ', 'vosp', 'prof',\n",
    "       'plan', 'surf', 'infra', 'situ', 'vma', 'catv', 'obs', 'obsm', 'choc',\n",
    "       'manv', 'motor', 'place', 'grav', 'sexe', 'trajet']] = df[['lum', 'int', 'atm', 'col',  'circ', 'vosp', 'prof',\n",
    "       'plan', 'surf', 'infra', 'situ', 'vma', 'catv', 'obs', 'obsm', 'choc',\n",
    "       'manv', 'motor', 'place', 'grav', 'sexe', 'trajet']].astype('int')"
   ]
  },
  {
   "cell_type": "code",
   "execution_count": 219,
   "id": "442ed59a",
   "metadata": {},
   "outputs": [
    {
     "data": {
      "text/plain": [
       "459"
      ]
     },
     "execution_count": 219,
     "metadata": {},
     "output_type": "execute_result"
    }
   ],
   "source": [
    "df.duplicated().sum()"
   ]
  },
  {
   "cell_type": "code",
   "execution_count": 220,
   "id": "b53458c4",
   "metadata": {},
   "outputs": [
    {
     "name": "stdout",
     "output_type": "stream",
     "text": [
      "mois  :  3.7166259163782275e-90\n",
      "lum  :  0.0\n",
      "agg  :  0.0\n",
      "int  :  0.0\n",
      "atm  :  7.903629026852421e-306\n",
      "col  :  0.0\n",
      "lat  :  0.0\n",
      "long  :  0.0\n",
      "catr  :  0.0\n",
      "circ  :  0.0\n",
      "nbv  :  0.0\n",
      "vosp  :  8.268260976663102e-258\n",
      "prof  :  0.0\n",
      "plan  :  0.0\n",
      "surf  :  1.5599881238016478e-174\n",
      "infra  :  5.942802388227896e-197\n",
      "situ  :  0.0\n",
      "vma  :  0.0\n",
      "catv  :  0.0\n",
      "obs  :  0.0\n",
      "obsm  :  0.0\n",
      "choc  :  0.0\n",
      "manv  :  0.0\n",
      "motor  :  0.0\n",
      "place  :  0.0\n",
      "catu  :  0.0\n",
      "grav  :  0.0\n",
      "sexe  :  0.0\n",
      "trajet  :  0.0\n",
      "secu_1  :  0.0\n",
      "secu_2  :  0.0\n",
      "secu_3  :  1.0816435368773264e-37\n",
      "secu_4  :  5.128152597204853e-83\n",
      "secu_5  :  1.1022350030952272e-35\n",
      "secu_6  :  0.0\n",
      "secu_7  :  4.974363745844205e-23\n",
      "secu_8  :  0.0\n",
      "secu_9  :  0.0\n",
      "hh  :  0.0\n",
      "date  :  2.6796861381686795e-140\n",
      "age  :  0.0\n"
     ]
    }
   ],
   "source": [
    "for v in df.columns :\n",
    "    cont = pd.crosstab(df[v],df['grav'])\n",
    "    print(v, ' : ' , chi2_contingency(cont).pvalue)"
   ]
  },
  {
   "cell_type": "code",
   "execution_count": null,
   "id": "258f79e3",
   "metadata": {},
   "outputs": [],
   "source": []
  }
 ],
 "metadata": {
  "kernelspec": {
   "display_name": "base",
   "language": "python",
   "name": "python3"
  },
  "language_info": {
   "codemirror_mode": {
    "name": "ipython",
    "version": 3
   },
   "file_extension": ".py",
   "mimetype": "text/x-python",
   "name": "python",
   "nbconvert_exporter": "python",
   "pygments_lexer": "ipython3",
   "version": "3.11.7"
  }
 },
 "nbformat": 4,
 "nbformat_minor": 5
}
